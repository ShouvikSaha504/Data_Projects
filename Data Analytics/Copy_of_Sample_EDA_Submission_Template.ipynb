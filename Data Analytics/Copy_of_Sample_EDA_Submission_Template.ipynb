{
  "nbformat": 4,
  "nbformat_minor": 0,
  "metadata": {
    "colab": {
      "private_outputs": true,
      "provenance": [],
      "collapsed_sections": [
        "gIfDvo9L0UH2"
      ],
      "include_colab_link": true
    },
    "kernelspec": {
      "name": "python3",
      "display_name": "Python 3"
    },
    "language_info": {
      "name": "python"
    }
  },
  "cells": [
    {
      "cell_type": "markdown",
      "metadata": {
        "id": "view-in-github",
        "colab_type": "text"
      },
      "source": [
        "<a href=\"https://colab.research.google.com/github/ShouvikSaha504/Data_Projects/blob/main/Data%20Analytics/Copy_of_Sample_EDA_Submission_Template.ipynb\" target=\"_parent\"><img src=\"https://colab.research.google.com/assets/colab-badge.svg\" alt=\"Open In Colab\"/></a>"
      ]
    },
    {
      "cell_type": "markdown",
      "source": [
        "# **Project Name**    -\n",
        "\n",
        "####**Exploratory Data Analysis of Airbnb NYC 2019 data.**\n",
        "\n"
      ],
      "metadata": {
        "id": "vncDsAP0Gaoa"
      }
    },
    {
      "cell_type": "markdown",
      "source": [
        "##### **Project Type**    - EDA\n",
        "##### **Contribution**    - Individual\n",
        "##### **Team Member 1 -**\n",
        "##### **Team Member 2 -**\n",
        "##### **Team Member 3 -**\n",
        "##### **Team Member 4 -**"
      ],
      "metadata": {
        "id": "beRrZCGUAJYm"
      }
    },
    {
      "cell_type": "markdown",
      "source": [
        "# **Project Summary -**"
      ],
      "metadata": {
        "id": "FJNUwmbgGyua"
      }
    },
    {
      "cell_type": "markdown",
      "source": [
        "Write the summary here within 500-600 words.\n",
        "\n",
        "\n",
        "Exploratory Data Analysis (EDA) is a critical phase in the data analysis process that plays a pivotal role in understanding and unraveling the insights within a dataset. In a nutshell, EDA is the art of visually and statistically summarizing, interpreting, and interrogating data sets to extract meaningful patterns, relationships, and trends. This process involves the use of various statistical and graphical techniques to transform raw data into actionable insights.\n",
        "\n",
        "By employing tools and libraries like Pandas and NumPy in Python, analysts can efficiently clean, preprocess, and explore data, unveiling its underlying structure and characteristics. EDA aids in identifying outliers, missing values, and potential patterns that inform subsequent modeling decisions. Furthermore, it facilitates the creation of informative visualizations, histograms, scatter plots, and more, enabling a comprehensive understanding of data distributions and correlations.\n",
        "\n",
        "In essence, EDA serves as the compass guiding analysts through the initial stages of data exploration, allowing them to make informed decisions, formulate hypotheses, and ultimately unlock the intrinsic value hidden within the data. Through this iterative and investigative approach, EDA empowers data professionals to embark on a data-driven journey, fostering a deeper understanding of the phenomena encapsulated in the dataset.\n",
        "\n",
        "In this project, we performed exploratory data analysis on the Airbnb NYC 2019 dataset which is in CSV format. Airbnb also known as an American online platform for rental accommodations is a platform that connects hosts and guests. Here hosts list their homes for rent then guests can discover and book those places. Airbnb, which launched its business in 2009, has experienced explosive growth by creating value through the sharing economy business model. The Airbnb business model helps property owners exploit underutilized assets. However, along with its rapid growth, controversies have arisen among many stakeholders, especially the traditional hotel industry, communities, and policymakers. Airbnb prominently argues to promote more inclusive forms of tourism by enabling ordinary households to occasionally share their home with tourists. This conventional understanding of ‘home-sharing’ has been challenged, however, with critics arguing that property owners and landlords use the platform for the commercial provision of permanent holiday homes.\n",
        "\n",
        "We used numpy, pandas library for data manipulation and data wrangling, and Matplotlib, and Seaborn for data visualization to gain insights from the given data. At the beginning of the EDA, we will perform pandas operations to know our data and gain information from the data. Then we will operate to understand the variables and check the unique values for each variable. After this step, we will move to the data-wrangling process to clean our data. Then we will perform data visualizations to plot the data and extract valuable insights. After analyzing the plots we will suggest what are the obstacles hindering the growth of the business and how to overcome them. We performed different visualizations like Univariate, Bivariate, and Multivariate analysis. Thus we will conclude our EDA project.\n",
        "\n",
        "Steps-\n",
        "1. First we will import pandas, numpy, matplotlib, and seaborn libraries. Then we load the CSV data with pandas. Then we viewed the first and last five rows of the data frame, the shape of the data frame for a better understanding of the data.\n",
        "\n",
        "2. Then we will perform some steps to find duplicate values, missing values/ null values, etc.\n",
        "\n",
        "3. Then we will check for unique values for each variable in the data frame.\n",
        "\n",
        "4. In the next step we will start data wrangling for creating appropriate visualizations.\n",
        "\n",
        "5. After completing data wrangling we will perform visualizations with visualization libraries like matplotlib and Seaborn. Here we will plot the following plots - Bar plot, scatter plot, histogram, heatmap, pair plot, etc.\n"
      ],
      "metadata": {
        "id": "F6v_1wHtG2nS"
      }
    },
    {
      "cell_type": "markdown",
      "source": [
        "# **GitHub Link -**"
      ],
      "metadata": {
        "id": "w6K7xa23Elo4"
      }
    },
    {
      "cell_type": "markdown",
      "source": [
        "Provide your GitHub Link here.\n",
        "\n",
        "https://github.com/ShouvikSaha504/Data_Projects.git"
      ],
      "metadata": {
        "id": "h1o69JH3Eqqn"
      }
    },
    {
      "cell_type": "markdown",
      "source": [
        "# **Problem Statement**\n"
      ],
      "metadata": {
        "id": "yQaldy8SH6Dl"
      }
    },
    {
      "cell_type": "markdown",
      "source": [
        "**Write Problem Statement Here.**\n",
        "\n",
        "What is the most popular neighbourhood_group, room_type, and what are the obstacles that might affect the business growth?"
      ],
      "metadata": {
        "id": "DpeJGUA3kjGy"
      }
    },
    {
      "cell_type": "markdown",
      "source": [
        "#### **Define Your Business Objective?**"
      ],
      "metadata": {
        "id": "PH-0ReGfmX4f"
      }
    },
    {
      "cell_type": "markdown",
      "source": [
        "Answer Here.\n",
        "\n",
        "With this EDA project we are trying to detect obstacles that might lead to negative business growth and find solutions to counter those obstacles and help the business to generate more revenue."
      ],
      "metadata": {
        "id": "PhDvGCAqmjP1"
      }
    },
    {
      "cell_type": "markdown",
      "source": [
        "# **General Guidelines** : -  "
      ],
      "metadata": {
        "id": "mDgbUHAGgjLW"
      }
    },
    {
      "cell_type": "markdown",
      "source": [
        "1.   Well-structured, formatted, and commented code is required.\n",
        "2.   Exception Handling, Production Grade Code & Deployment Ready Code will be a plus. Those students will be awarded some additional credits.\n",
        "     \n",
        "     The additional credits will have advantages over other students during Star Student selection.\n",
        "       \n",
        "             [ Note: - Deployment Ready Code is defined as, the whole .ipynb notebook should be executable in one go\n",
        "                       without a single error logged. ]\n",
        "\n",
        "3.   Each and every logic should have proper comments.\n",
        "4. You may add as many number of charts you want. Make Sure for each and every chart the following format should be answered.\n",
        "        \n",
        "\n",
        "```\n",
        "# Chart visualization code\n",
        "```\n",
        "            \n",
        "\n",
        "*   Why did you pick the specific chart?\n",
        "*   What is/are the insight(s) found from the chart?\n",
        "* Will the gained insights help creating a positive business impact?\n",
        "Are there any insights that lead to negative growth? Justify with specific reason.\n",
        "\n",
        "5. You have to create at least 20 logical & meaningful charts having important insights.\n",
        "\n",
        "\n",
        "[ Hints : - Do the Vizualization in  a structured way while following \"UBM\" Rule.\n",
        "\n",
        "U - Univariate Analysis,\n",
        "\n",
        "B - Bivariate Analysis (Numerical - Categorical, Numerical - Numerical, Categorical - Categorical)\n",
        "\n",
        "M - Multivariate Analysis\n",
        " ]\n",
        "\n",
        "\n",
        "\n"
      ],
      "metadata": {
        "id": "ZrxVaUj-hHfC"
      }
    },
    {
      "cell_type": "markdown",
      "source": [
        "# ***Let's Begin !***"
      ],
      "metadata": {
        "id": "O_i_v8NEhb9l"
      }
    },
    {
      "cell_type": "markdown",
      "source": [
        "## ***1. Know Your Data***"
      ],
      "metadata": {
        "id": "HhfV-JJviCcP"
      }
    },
    {
      "cell_type": "markdown",
      "source": [
        "### Import Libraries"
      ],
      "metadata": {
        "id": "Y3lxredqlCYt"
      }
    },
    {
      "cell_type": "code",
      "source": [
        "# Import Libraries\n",
        "\n",
        "import pandas as pd\n",
        "import numpy as np\n",
        "import matplotlib.pyplot as plt\n",
        "import seaborn as sns"
      ],
      "metadata": {
        "id": "M8Vqi-pPk-HR"
      },
      "execution_count": null,
      "outputs": []
    },
    {
      "cell_type": "markdown",
      "source": [
        "### Dataset Loading"
      ],
      "metadata": {
        "id": "3RnN4peoiCZX"
      }
    },
    {
      "cell_type": "code",
      "source": [
        "# Load Dataset\n",
        "airbnb_df = pd.read_csv(\"Airbnb NYC 2019.csv\")"
      ],
      "metadata": {
        "id": "4CkvbW_SlZ_R"
      },
      "execution_count": null,
      "outputs": []
    },
    {
      "cell_type": "markdown",
      "source": [
        "### Dataset First View"
      ],
      "metadata": {
        "id": "x71ZqKXriCWQ"
      }
    },
    {
      "cell_type": "code",
      "source": [
        "# Dataset First Look\n",
        "airbnb_df"
      ],
      "metadata": {
        "id": "LWNFOSvLl09H"
      },
      "execution_count": null,
      "outputs": []
    },
    {
      "cell_type": "code",
      "source": [
        "# visualizing first five rows of the dataframe\n",
        "airbnb_df.head()"
      ],
      "metadata": {
        "id": "tVJFOGy07pHb"
      },
      "execution_count": null,
      "outputs": []
    },
    {
      "cell_type": "code",
      "source": [
        "# visualizing last five rows of the dataframe\n",
        "airbnb_df.tail()"
      ],
      "metadata": {
        "id": "0w51jAD27uGj"
      },
      "execution_count": null,
      "outputs": []
    },
    {
      "cell_type": "markdown",
      "source": [
        "### Dataset Rows & Columns count"
      ],
      "metadata": {
        "id": "7hBIi_osiCS2"
      }
    },
    {
      "cell_type": "code",
      "source": [
        "# Dataset Rows & Columns count\n",
        "airbnb_df.shape"
      ],
      "metadata": {
        "id": "Kllu7SJgmLij"
      },
      "execution_count": null,
      "outputs": []
    },
    {
      "cell_type": "markdown",
      "source": [
        "The Airbnb NYC 2019 dataset has 48895 rows and 16 columns"
      ],
      "metadata": {
        "id": "0ljo-dv2731f"
      }
    },
    {
      "cell_type": "markdown",
      "source": [
        "### Dataset Information"
      ],
      "metadata": {
        "id": "JlHwYmJAmNHm"
      }
    },
    {
      "cell_type": "code",
      "source": [
        "# Dataset Info\n",
        "airbnb_df.info()"
      ],
      "metadata": {
        "id": "e9hRXRi6meOf"
      },
      "execution_count": null,
      "outputs": []
    },
    {
      "cell_type": "markdown",
      "source": [
        "#### Duplicate Values"
      ],
      "metadata": {
        "id": "35m5QtbWiB9F"
      }
    },
    {
      "cell_type": "code",
      "source": [
        "# Dataset Duplicate Value Count\n",
        "airbnb_df.duplicated().sum()"
      ],
      "metadata": {
        "id": "1sLdpKYkmox0"
      },
      "execution_count": null,
      "outputs": []
    },
    {
      "cell_type": "markdown",
      "source": [
        "There are no duplicate values in the dataset"
      ],
      "metadata": {
        "id": "myGdetHh8FTp"
      }
    },
    {
      "cell_type": "markdown",
      "source": [
        "#### Missing Values/Null Values"
      ],
      "metadata": {
        "id": "PoPl-ycgm1ru"
      }
    },
    {
      "cell_type": "code",
      "source": [
        "# Missing Values/Null Values Count\n",
        "airbnb_df.isna().sum()"
      ],
      "metadata": {
        "id": "GgHWkxvamxVg"
      },
      "execution_count": null,
      "outputs": []
    },
    {
      "cell_type": "code",
      "source": [
        "# Visualizing the missing values\n",
        "airbnb_df[airbnb_df.isnull().any(axis = 1)]"
      ],
      "metadata": {
        "id": "3q5wnI3om9sJ"
      },
      "execution_count": null,
      "outputs": []
    },
    {
      "cell_type": "code",
      "source": [
        "# visualizing rows where all features are NaN\n",
        "airbnb_df[airbnb_df.iloc[:,:] == np.nan].head()"
      ],
      "metadata": {
        "id": "5CNpnxj3OVTS"
      },
      "execution_count": null,
      "outputs": []
    },
    {
      "cell_type": "markdown",
      "source": [
        "### What did you know about your dataset?"
      ],
      "metadata": {
        "id": "H0kj-8xxnORC"
      }
    },
    {
      "cell_type": "markdown",
      "source": [
        "Answer Here\n",
        "\n",
        "The Airbnb NYC 2019 dataset is a csv file that contains all the Airbnb booking data of financial year 2019. Through pandas we have imported this dataset into pandas dataframe that contains 48895 rows and 16 columns. The dataset contains no duplicate values. The name and host_name columns in the dataset have 16, 21 null values. The last_review and reviews_per_month columns have 10052 null values. All other columns have 0 null values."
      ],
      "metadata": {
        "id": "gfoNAAC-nUe_"
      }
    },
    {
      "cell_type": "markdown",
      "source": [
        "## ***2. Understanding Your Variables***"
      ],
      "metadata": {
        "id": "nA9Y7ga8ng1Z"
      }
    },
    {
      "cell_type": "code",
      "source": [
        "# Dataset Columns\n",
        "airbnb_df.columns"
      ],
      "metadata": {
        "id": "j7xfkqrt5Ag5"
      },
      "execution_count": null,
      "outputs": []
    },
    {
      "cell_type": "code",
      "source": [
        "# Dataset Describe\n",
        "airbnb_df.describe()"
      ],
      "metadata": {
        "id": "DnOaZdaE5Q5t"
      },
      "execution_count": null,
      "outputs": []
    },
    {
      "cell_type": "code",
      "source": [
        "airbnb_df[\"neighbourhood_group\"].value_counts()"
      ],
      "metadata": {
        "id": "K_wQq_ME8Yk_"
      },
      "execution_count": null,
      "outputs": []
    },
    {
      "cell_type": "code",
      "source": [
        "airbnb_df[\"room_type\"].value_counts()"
      ],
      "metadata": {
        "id": "S7-Zt8y_8bLn"
      },
      "execution_count": null,
      "outputs": []
    },
    {
      "cell_type": "markdown",
      "source": [
        "### Variables Description"
      ],
      "metadata": {
        "id": "PBTbrJXOngz2"
      }
    },
    {
      "cell_type": "markdown",
      "source": [
        "Answer Here\n",
        "\n",
        "\n",
        "*   The airbnb dataframe has 16 columns which are followings - 'id',\n",
        "'name', 'host_id', 'host_name', 'neighbourhood_group',\n",
        "'neighbourhood', 'latitude', 'longitude', 'room_type', 'price',\n",
        "'minimum_nights', 'number_of_reviews', 'last_review',\n",
        "'reviews_per_month', 'calculated_host_listings_count',\n",
        "'availability_365'. All these columns have object data type.\n",
        "\n",
        "*   The neighbourhood_group has 21661 values for Manhattan, 20104 values for Brooklyn, 5666 values for Queens, 1091 values for Bronx, 373 values for Staten Island.\n",
        "\n",
        "\n",
        "*   The Entire home/apt room type has 25409 values, private room has 22326 values, shared room has 1160 values.\n",
        "\n",
        "\n",
        "\n",
        "\n",
        "\n",
        "\n",
        "\n",
        "\n",
        "\n",
        "\n"
      ],
      "metadata": {
        "id": "aJV4KIxSnxay"
      }
    },
    {
      "cell_type": "markdown",
      "source": [
        "### Check Unique Values for each variable."
      ],
      "metadata": {
        "id": "u3PMJOP6ngxN"
      }
    },
    {
      "cell_type": "code",
      "source": [
        "# Check Unique Values for each variable.\n",
        "airbnb_df[\"name\"].unique() # The name is name of the apartment"
      ],
      "metadata": {
        "id": "zms12Yq5n-jE"
      },
      "execution_count": null,
      "outputs": []
    },
    {
      "cell_type": "code",
      "source": [
        "airbnb_df[\"host_name\"].unique() # he host name is name of the host of the apartment"
      ],
      "metadata": {
        "id": "7xeqo_fx8hCB"
      },
      "execution_count": null,
      "outputs": []
    },
    {
      "cell_type": "code",
      "source": [
        "airbnb_df[\"neighbourhood_group\"].nunique()"
      ],
      "metadata": {
        "id": "7I16AQPx8kwb"
      },
      "execution_count": null,
      "outputs": []
    },
    {
      "cell_type": "code",
      "source": [
        "airbnb_df[\"neighbourhood_group\"].unique() # neighbourhood_group is a class vriable"
      ],
      "metadata": {
        "id": "5olpjPFx8nZf"
      },
      "execution_count": null,
      "outputs": []
    },
    {
      "cell_type": "code",
      "source": [
        "airbnb_df[\"neighbourhood\"].unique()"
      ],
      "metadata": {
        "id": "GQe5KRda8rrc"
      },
      "execution_count": null,
      "outputs": []
    },
    {
      "cell_type": "code",
      "source": [
        "airbnb_df[\"neighbourhood\"].nunique()"
      ],
      "metadata": {
        "id": "QQnQAyoC8uvF"
      },
      "execution_count": null,
      "outputs": []
    },
    {
      "cell_type": "code",
      "source": [
        "airbnb_df[\"room_type\"].unique() # room type is a class variable"
      ],
      "metadata": {
        "id": "3gntEKni8xGQ"
      },
      "execution_count": null,
      "outputs": []
    },
    {
      "cell_type": "code",
      "source": [
        "airbnb_df[\"minimum_nights\"].unique() # Its a continuous variable"
      ],
      "metadata": {
        "id": "pyWlLRFX8ziP"
      },
      "execution_count": null,
      "outputs": []
    },
    {
      "cell_type": "code",
      "source": [
        "airbnb_df[\"price\"].nunique() # continuous variable"
      ],
      "metadata": {
        "id": "Ob0ozkmy81wJ"
      },
      "execution_count": null,
      "outputs": []
    },
    {
      "cell_type": "code",
      "source": [
        "airbnb_df[\"number_of_reviews\"].nunique() # Continuous vribale"
      ],
      "metadata": {
        "id": "3twH-B_V84Ab"
      },
      "execution_count": null,
      "outputs": []
    },
    {
      "cell_type": "code",
      "source": [
        "airbnb_df[\"last_review\"].nunique() # continuous variable"
      ],
      "metadata": {
        "id": "vT2UlIzv86BL"
      },
      "execution_count": null,
      "outputs": []
    },
    {
      "cell_type": "code",
      "source": [
        "airbnb_df[\"reviews_per_month\"].nunique()"
      ],
      "metadata": {
        "id": "hUyBWOrr89e9"
      },
      "execution_count": null,
      "outputs": []
    },
    {
      "cell_type": "code",
      "source": [
        "airbnb_df[\"calculated_host_listings_count\"].unique()"
      ],
      "metadata": {
        "id": "ALFeoXWk8_na"
      },
      "execution_count": null,
      "outputs": []
    },
    {
      "cell_type": "code",
      "source": [
        "airbnb_df[\"availability_365\"].unique() # continuous variable\n"
      ],
      "metadata": {
        "id": "-O5P175o9Cfs"
      },
      "execution_count": null,
      "outputs": []
    },
    {
      "cell_type": "code",
      "source": [
        "airbnb_df[\"availability_365\"].nunique()"
      ],
      "metadata": {
        "id": "7Q_qHDaVBM8Q"
      },
      "execution_count": null,
      "outputs": []
    },
    {
      "cell_type": "markdown",
      "source": [
        "After checking unique values for each variable we can conclude that room_type and neighbourhood_group are the only class variables rest are continuous variables."
      ],
      "metadata": {
        "id": "EOVQJz_Fxg62"
      }
    },
    {
      "cell_type": "markdown",
      "source": [
        "## 3. ***Data Wrangling***"
      ],
      "metadata": {
        "id": "dauF4eBmngu3"
      }
    },
    {
      "cell_type": "markdown",
      "source": [
        "### Data Wrangling Code"
      ],
      "metadata": {
        "id": "bKJF3rekwFvQ"
      }
    },
    {
      "cell_type": "code",
      "source": [
        "# Write your code to make your dataset analysis ready.\n"
      ],
      "metadata": {
        "id": "wk-9a2fpoLcV"
      },
      "execution_count": null,
      "outputs": []
    },
    {
      "cell_type": "code",
      "source": [
        "# replace missing values with NaN\n",
        "airbnb_df.replace(\" \", np.nan, inplace = True)"
      ],
      "metadata": {
        "id": "_RZXiXPdBUe5"
      },
      "execution_count": null,
      "outputs": []
    },
    {
      "cell_type": "code",
      "source": [
        "airbnb_df.replace([\"NaN\"], np.nan, inplace = True)"
      ],
      "metadata": {
        "id": "aB5CndI6XXCK"
      },
      "execution_count": null,
      "outputs": []
    },
    {
      "cell_type": "code",
      "source": [
        "# Check wheather the missing values are properly replaced\n",
        "airbnb_df.head()"
      ],
      "metadata": {
        "id": "3A0H0arUBXWp"
      },
      "execution_count": null,
      "outputs": []
    },
    {
      "cell_type": "code",
      "source": [
        "airbnb_df.info()"
      ],
      "metadata": {
        "id": "ceJdvFJPBhAw"
      },
      "execution_count": null,
      "outputs": []
    },
    {
      "cell_type": "code",
      "source": [
        "# drop rows with NaN values\n",
        "airbnb_df.dropna(subset = [\"name\", \"host_name\", \"last_review\", \"reviews_per_month\"], inplace = True)"
      ],
      "metadata": {
        "id": "6ablh0GxBuEp"
      },
      "execution_count": null,
      "outputs": []
    },
    {
      "cell_type": "code",
      "source": [
        "# Check wheather rows with missing values are dropped correctly\n",
        "airbnb_df.shape"
      ],
      "metadata": {
        "id": "dLAFzxZjByiY"
      },
      "execution_count": null,
      "outputs": []
    },
    {
      "cell_type": "code",
      "source": [
        "airbnb_df.info()"
      ],
      "metadata": {
        "id": "9hBTkRYOB6UL"
      },
      "execution_count": null,
      "outputs": []
    },
    {
      "cell_type": "code",
      "source": [
        "airbnb_df.isnull().sum() # Now we have successfully removed rows with NaN values"
      ],
      "metadata": {
        "id": "nGebEqVFB8rp"
      },
      "execution_count": null,
      "outputs": []
    },
    {
      "cell_type": "markdown",
      "source": [
        "With these steps we have successfully removed all the missing or NaN values"
      ],
      "metadata": {
        "id": "1uCfoer8CPup"
      }
    },
    {
      "cell_type": "code",
      "source": [
        "# Chek data types of all the variables\n",
        "airbnb_df.dtypes"
      ],
      "metadata": {
        "id": "6q3swVdUCIt6"
      },
      "execution_count": null,
      "outputs": []
    },
    {
      "cell_type": "code",
      "source": [
        "# Change the datatypes of integers to float.\n",
        "airbnb_df[[\"price\", \"minimum_nights\", \"number_of_reviews\",\"calculated_host_listings_count\", \"availability_365\"]] = airbnb_df[[\"price\", \"minimum_nights\", \"number_of_reviews\",\"calculated_host_listings_count\", \"availability_365\"]].astype(float)"
      ],
      "metadata": {
        "id": "ubPcSt3iCVks"
      },
      "execution_count": null,
      "outputs": []
    },
    {
      "cell_type": "code",
      "source": [
        "airbnb_df.dtypes"
      ],
      "metadata": {
        "id": "VeFSypMlC85Z"
      },
      "execution_count": null,
      "outputs": []
    },
    {
      "cell_type": "code",
      "source": [
        "# Convert the last_review column into datetime object\n",
        "airbnb_df[\"last_review\"] = pd.to_datetime(airbnb_df[\"last_review\"])"
      ],
      "metadata": {
        "id": "kBVrY4hCCgcD"
      },
      "execution_count": null,
      "outputs": []
    },
    {
      "cell_type": "code",
      "source": [
        "# remove duplicates\n",
        "airbnb_df.drop_duplicates(inplace = True)"
      ],
      "metadata": {
        "id": "RSQfDHTSCjBC"
      },
      "execution_count": null,
      "outputs": []
    },
    {
      "cell_type": "code",
      "source": [
        "# Shape of the dataframe after removing NaN values\n",
        "airbnb_df.shape"
      ],
      "metadata": {
        "id": "U0f9c4MZClJu"
      },
      "execution_count": null,
      "outputs": []
    },
    {
      "cell_type": "code",
      "source": [
        "# create box plot for price column to detect outliers\n",
        "sns.boxplot(x = \"price\", data = airbnb_df)\n",
        "plt.title(\"box plot before removing outliers\")"
      ],
      "metadata": {
        "id": "A7HXMVkBCoCT"
      },
      "execution_count": null,
      "outputs": []
    },
    {
      "cell_type": "code",
      "source": [
        "# We removed the first 5% outliers for better analysis.\n",
        "airbnb_df = airbnb_df[(airbnb_df[\"price\"] >= airbnb_df[\"price\"].quantile(0.05)) &\n",
        "                      (airbnb_df[\"price\"] <= airbnb_df[\"price\"].quantile(0.95))]"
      ],
      "metadata": {
        "id": "8PuW0Xx5Cr_l"
      },
      "execution_count": null,
      "outputs": []
    },
    {
      "cell_type": "code",
      "source": [
        "# visualizing box plot after removing the outliers\n",
        "sns.boxplot(x = \"price\", data = airbnb_df)\n",
        "plt.title(\"box plot after removing outliers\")"
      ],
      "metadata": {
        "id": "zbdQOqH5CxXg"
      },
      "execution_count": null,
      "outputs": []
    },
    {
      "cell_type": "code",
      "source": [
        "# Shape of dataframe after removing outliers.\n",
        "airbnb_df.shape"
      ],
      "metadata": {
        "id": "ar_WPLGId1AE"
      },
      "execution_count": null,
      "outputs": []
    },
    {
      "cell_type": "code",
      "source": [
        "# value counts of neighbourhood groups after data wrangling.\n",
        "airbnb_df[\"neighbourhood_group\"].value_counts()"
      ],
      "metadata": {
        "id": "M5u4peTiDgDq"
      },
      "execution_count": null,
      "outputs": []
    },
    {
      "cell_type": "code",
      "source": [
        "# value counts of neighbourhood groups after data wrangling.\n",
        "airbnb_df[\"room_type\"].value_counts()"
      ],
      "metadata": {
        "id": "hXUNNi_rDiJh"
      },
      "execution_count": null,
      "outputs": []
    },
    {
      "cell_type": "code",
      "source": [
        "# Shape of dataframe after data wrangling.\n",
        "airbnb_df.shape"
      ],
      "metadata": {
        "id": "5m_UoM-7CzrJ"
      },
      "execution_count": null,
      "outputs": []
    },
    {
      "cell_type": "markdown",
      "source": [
        "### What all manipulations have you done and insights you found?"
      ],
      "metadata": {
        "id": "MSa1f5Uengrz"
      }
    },
    {
      "cell_type": "markdown",
      "source": [
        "Answer Here.\n",
        "\n",
        "1. In the first step we replaced the missing values with NaN values.\n",
        "2. In the next step we dropped all the null values from the \"name\", \"host_name\", \"last_review\", and \"reviews_per_month\" columns.\n",
        "3. Then we converted the data types of \"price\", \"minimum_nights\", \"number_of_reviews\", \"calculated_host_listings_count\", \"availability_365\" colums into float type.\n",
        "4. Then we convert the \"last_review\" column into a datetime object.\n",
        "5. Then we dropped the duplicate values from the dataset.\n",
        "6. Then we detected outliers in price columns with boxplots and then removed them.\n",
        "\n",
        " After data wrangling we found the following insights-\n",
        "\n",
        "*   The neighbourhood_group has 15071 values for Manhattan, 15107 values for Brooklyn, 4148 values for Queens, 733 values for Bronx, and 266 values for Staten Island.\n",
        "\n",
        "*   The Entire home/apt room type has 18526 values, the private room has 16304 values, and the shared room has 495 values.\n",
        "\n",
        "*  After data wrangling now the data frame has 35325 rows and 16 columns.\n",
        "\n",
        "\n"
      ],
      "metadata": {
        "id": "LbyXE7I1olp8"
      }
    },
    {
      "cell_type": "markdown",
      "source": [
        "## ***4. Data Vizualization, Storytelling & Experimenting with charts : Understand the relationships between variables***"
      ],
      "metadata": {
        "id": "GF8Ens_Soomf"
      }
    },
    {
      "cell_type": "code",
      "source": [
        "# visualizing the columns\n",
        "airbnb_df.columns"
      ],
      "metadata": {
        "id": "-I7Av4W2C3bS"
      },
      "execution_count": null,
      "outputs": []
    },
    {
      "cell_type": "markdown",
      "source": [
        "#### Chart - 1"
      ],
      "metadata": {
        "id": "0wOQAZs5pc--"
      }
    },
    {
      "cell_type": "code",
      "source": [
        "# Chart - 1 visualization code\n",
        "\n",
        "price_by_room = airbnb_df.groupby(\"room_type\")[\"price\"].mean()\n",
        "price_by_room"
      ],
      "metadata": {
        "id": "7v_ESjsspbW7"
      },
      "execution_count": null,
      "outputs": []
    },
    {
      "cell_type": "code",
      "source": [
        "plt.bar(price_by_room.index, price_by_room.values)\n",
        "plt.xlabel(\"room_type\")\n",
        "plt.ylabel(\"price\")\n",
        "plt.title(\"price of each room_type\")"
      ],
      "metadata": {
        "id": "sovZycgVDIkm"
      },
      "execution_count": null,
      "outputs": []
    },
    {
      "cell_type": "markdown",
      "source": [
        "##### 1. Why did you pick the specific chart?"
      ],
      "metadata": {
        "id": "K5QZ13OEpz2H"
      }
    },
    {
      "cell_type": "markdown",
      "source": [
        "Answer Here.\n",
        "\n",
        "Here we have picked the bar chart as we are comparing categorical variable(room_type) with a continuous variable(price). Comparing these two variable we can reach to a conclusion which room type is the costliest and which room type is the cheapest one."
      ],
      "metadata": {
        "id": "XESiWehPqBRc"
      }
    },
    {
      "cell_type": "markdown",
      "source": [
        "##### 2. What is/are the insight(s) found from the chart?"
      ],
      "metadata": {
        "id": "lQ7QKXXCp7Bj"
      }
    },
    {
      "cell_type": "markdown",
      "source": [
        "Answer Here\n",
        "\n",
        "From this visualization we can coclude the following observations:\n",
        "\n",
        "1.   The Entire home/apt room type is the most expensive room type\n",
        "2.   The Shared room category is the cheapest among all other room types"
      ],
      "metadata": {
        "id": "C_j1G7yiqdRP"
      }
    },
    {
      "cell_type": "markdown",
      "source": [
        "##### 3. Will the gained insights help creating a positive business impact?\n",
        "Are there any insights that lead to negative growth? Justify with specific reason."
      ],
      "metadata": {
        "id": "448CDAPjqfQr"
      }
    },
    {
      "cell_type": "markdown",
      "source": [
        "Answer Here\n",
        "\n",
        "No we found there is no reason for negative growth. The chart is perfectly depicting real world scenario where the rent of entire apartment or home should be highest for a particular neighbourhood, and shared room should be the lowest.\n",
        "So, we are sure the insights are correct and it will lead to a positive impact on the business."
      ],
      "metadata": {
        "id": "3cspy4FjqxJW"
      }
    },
    {
      "cell_type": "markdown",
      "source": [
        "#### Chart - 2"
      ],
      "metadata": {
        "id": "KSlN3yHqYklG"
      }
    },
    {
      "cell_type": "code",
      "source": [
        "# Chart - 2 visualization code\n",
        "reviews_rooms = airbnb_df.groupby(\"room_type\")[\"number_of_reviews\"].sum()\n",
        "reviews_rooms"
      ],
      "metadata": {
        "id": "R4YgtaqtYklH"
      },
      "execution_count": null,
      "outputs": []
    },
    {
      "cell_type": "code",
      "source": [
        "plt.bar(reviews_rooms.index, reviews_rooms.values)\n",
        "plt.xlabel(\"room_types\")\n",
        "plt.ylabel(\"Total number of reviews\")\n",
        "plt.title(\"Total number of reviews for each room_type\")"
      ],
      "metadata": {
        "id": "-wAjq5fdDobS"
      },
      "execution_count": null,
      "outputs": []
    },
    {
      "cell_type": "markdown",
      "source": [
        "##### 1. Why did you pick the specific chart?"
      ],
      "metadata": {
        "id": "t6dVpIINYklI"
      }
    },
    {
      "cell_type": "markdown",
      "source": [
        "Answer Here.\n",
        "\n",
        "\n",
        "Here we have picked the bar chart as we are comparing categorical variable(room_type) with a continuous variable(number_of_reviews). Comparing these two variable we can reach to a conclusion which room type has the highest reviews and which room type has the lowest reviews."
      ],
      "metadata": {
        "id": "5aaW0BYyYklI"
      }
    },
    {
      "cell_type": "markdown",
      "source": [
        "##### 2. What is/are the insight(s) found from the chart?"
      ],
      "metadata": {
        "id": "ijmpgYnKYklI"
      }
    },
    {
      "cell_type": "markdown",
      "source": [
        "Answer Here\n",
        "\n",
        "Entire home/apt room type has the highest number of reviews available followed by Private room. Whereas Shared room has the lowest number of reviews availabe. Hence we can conclude most of the customers provide feedback for the rooms which are Entire home/apt rooms over other rooms."
      ],
      "metadata": {
        "id": "PSx9atu2YklI"
      }
    },
    {
      "cell_type": "markdown",
      "source": [
        "##### 3. Will the gained insights help creating a positive business impact?\n",
        "Are there any insights that lead to negative growth? Justify with specific reason."
      ],
      "metadata": {
        "id": "-JiQyfWJYklI"
      }
    },
    {
      "cell_type": "markdown",
      "source": [
        "Answer Here\n",
        "\n",
        "We found there is no reason for negative growth. The chart is perfectly depicting real world scenario where the customers who can afford an Entire home or apartment are generous people. Depending upon the experience they do not forget to share their experience. So, the gained insights will definitely help creating a positive business impact."
      ],
      "metadata": {
        "id": "BcBbebzrYklV"
      }
    },
    {
      "cell_type": "markdown",
      "source": [
        "#### Chart - 3"
      ],
      "metadata": {
        "id": "EM7whBJCYoAo"
      }
    },
    {
      "cell_type": "code",
      "source": [
        "# Chart - 3 visualization code\n",
        "reviews_neighbourhood = airbnb_df.groupby(\"neighbourhood_group\")[\"number_of_reviews\"].sum()\n",
        "reviews_neighbourhood"
      ],
      "metadata": {
        "id": "t6GMdE67YoAp"
      },
      "execution_count": null,
      "outputs": []
    },
    {
      "cell_type": "code",
      "source": [
        "plt.bar(reviews_neighbourhood.index, reviews_neighbourhood.values)\n",
        "plt.xlabel(\"neighbourhood_group\")\n",
        "plt.ylabel(\"Total number. of reviews\")\n",
        "plt.title(\"Total number. of reviews of each neighbourhood\")"
      ],
      "metadata": {
        "id": "nbmcsiR_EBNO"
      },
      "execution_count": null,
      "outputs": []
    },
    {
      "cell_type": "markdown",
      "source": [
        "##### 1. Why did you pick the specific chart?"
      ],
      "metadata": {
        "id": "fge-S5ZAYoAp"
      }
    },
    {
      "cell_type": "markdown",
      "source": [
        "Answer Here.\n",
        "\n",
        "Here we have selected bar plot to observe which neighbourhood_group possesses the highest total number of ratings. The bar chart is created as we are comparing categorical variable(neighbourhood_group) with a continuous variable(Total number of reviews)."
      ],
      "metadata": {
        "id": "5dBItgRVYoAp"
      }
    },
    {
      "cell_type": "markdown",
      "source": [
        "##### 2. What is/are the insight(s) found from the chart?"
      ],
      "metadata": {
        "id": "85gYPyotYoAp"
      }
    },
    {
      "cell_type": "markdown",
      "source": [
        "Answer Here\n",
        "\n",
        "Brooklyn has the highest number of reviews available followed by Manhattan. Whereas Staten Island has the lowest number of reviews availabe. Hence we can conclude most of the customers provide feedback for the rooms in Brooklyn and Manhattan compared to other neighbourhood groups."
      ],
      "metadata": {
        "id": "4jstXR6OYoAp"
      }
    },
    {
      "cell_type": "markdown",
      "source": [
        "##### 3. Will the gained insights help creating a positive business impact?\n",
        "Are there any insights that lead to negative growth? Justify with specific reason."
      ],
      "metadata": {
        "id": "RoGjAbkUYoAp"
      }
    },
    {
      "cell_type": "markdown",
      "source": [
        "Answer Here\n",
        "\n",
        "We found there is no reason for negative growth. The chart is perfectly depicting real world scenario. Manhattan and Brooklyn are one of the most populous neighbourhood_groups. So, the number of people staying there will be more than other neighbourhood_groups. Hence they have higher numbers of total number of reviews. So, the gained insights will definitely help creating a positive business impact."
      ],
      "metadata": {
        "id": "zfJ8IqMcYoAp"
      }
    },
    {
      "cell_type": "markdown",
      "source": [
        "#### Chart - 4"
      ],
      "metadata": {
        "id": "4Of9eVA-YrdM"
      }
    },
    {
      "cell_type": "code",
      "source": [
        "# Chart - 4 visualization code\n",
        "\n",
        "neighbourhood_group_min_nights = airbnb_df.groupby(\"neighbourhood_group\")[\"minimum_nights\"].mean()\n",
        "neighbourhood_group_min_nights\n",
        "\n",
        "plt.bar(neighbourhood_group_min_nights.index, neighbourhood_group_min_nights.values)\n",
        "plt.xlabel(\"neighbourhood_group\")\n",
        "plt.ylabel(\"minimum nights to be paid for\")\n",
        "plt.title(\"Minimum nights to be paid for in each neighbouhood\")"
      ],
      "metadata": {
        "id": "irlUoxc8YrdO"
      },
      "execution_count": null,
      "outputs": []
    },
    {
      "cell_type": "markdown",
      "source": [
        "##### 1. Why did you pick the specific chart?"
      ],
      "metadata": {
        "id": "iky9q4vBYrdO"
      }
    },
    {
      "cell_type": "markdown",
      "source": [
        "Answer Here.\n",
        "\n",
        "Here we have picked bar plot to observe which neighbourhood group is highest in terms of minimum nights to be paid for."
      ],
      "metadata": {
        "id": "aJRCwT6DYrdO"
      }
    },
    {
      "cell_type": "markdown",
      "source": [
        "##### 2. What is/are the insight(s) found from the chart?"
      ],
      "metadata": {
        "id": "F6T5p64dYrdO"
      }
    },
    {
      "cell_type": "markdown",
      "source": [
        "Answer Here\n",
        "\n",
        "Minimum nights to be paid for Manhattan is higher than other neighbourhood groups and Minimum nights to be paid for Staten Island is the lowest."
      ],
      "metadata": {
        "id": "Xx8WAJvtYrdO"
      }
    },
    {
      "cell_type": "markdown",
      "source": [
        "##### 3. Will the gained insights help creating a positive business impact?\n",
        "Are there any insights that lead to negative growth? Justify with specific reason."
      ],
      "metadata": {
        "id": "y-Ehk30pYrdP"
      }
    },
    {
      "cell_type": "markdown",
      "source": [
        "Answer Here\n",
        "\n",
        "We found there is no reason for negative growth. The chart is perfectly depicting real world scenarios. Manhattan is one of the most populous neighborhood groups. So, the number of people staying there will be more than other neighborhood groups. Hence minimum nights to be paid for Manhattan is higher than other neighbourhood groups. So, the gained insights will help creating a positive business impact."
      ],
      "metadata": {
        "id": "jLNxxz7MYrdP"
      }
    },
    {
      "cell_type": "markdown",
      "source": [
        "#### Chart - 5"
      ],
      "metadata": {
        "id": "bamQiAODYuh1"
      }
    },
    {
      "cell_type": "code",
      "source": [
        "# Chart - 5 visualization code\n",
        "\n",
        "room_type_min_nights = airbnb_df.groupby(\"room_type\")[\"minimum_nights\"].mean()\n",
        "room_type_min_nights\n",
        "\n",
        "plt.bar(room_type_min_nights.index, room_type_min_nights.values)\n",
        "plt.xlabel(\"room_type\")\n",
        "plt.ylabel(\"minimum nights to be paid for\")\n",
        "plt.title(\"Minimum nights to be paid for each type of room\")"
      ],
      "metadata": {
        "id": "TIJwrbroYuh3"
      },
      "execution_count": null,
      "outputs": []
    },
    {
      "cell_type": "markdown",
      "source": [
        "##### 1. Why did you pick the specific chart?"
      ],
      "metadata": {
        "id": "QHF8YVU7Yuh3"
      }
    },
    {
      "cell_type": "markdown",
      "source": [
        "Answer Here.\n",
        "\n",
        "\n",
        "Here we have selected bar plot to understand the relationship between different types of rooms and minimum nights to be paid for."
      ],
      "metadata": {
        "id": "dcxuIMRPYuh3"
      }
    },
    {
      "cell_type": "markdown",
      "source": [
        "##### 2. What is/are the insight(s) found from the chart?"
      ],
      "metadata": {
        "id": "GwzvFGzlYuh3"
      }
    },
    {
      "cell_type": "markdown",
      "source": [
        "Answer Here\n",
        "\n",
        "Minimum nights to be paid for Entire home/apt is higher than other neighbourhood groups and Minimum nights to be paid for Shared room is the lowest."
      ],
      "metadata": {
        "id": "uyqkiB8YYuh3"
      }
    },
    {
      "cell_type": "markdown",
      "source": [
        "##### 3. Will the gained insights help creating a positive business impact?\n",
        "Are there any insights that lead to negative growth? Justify with specific reason."
      ],
      "metadata": {
        "id": "qYpmQ266Yuh3"
      }
    },
    {
      "cell_type": "markdown",
      "source": [
        "Answer Here\n",
        "\n",
        "We found there is no reason for negative growth. The chart is perfectly depicting real world scenarios. Entire home/apt is the most expensive room type. Hence minimum nights to be paid for Entire home/apt is highest and minimum nights to be paid for Shared room is the lowest. So, the gained insights will help creating a positive business impact."
      ],
      "metadata": {
        "id": "_WtzZ_hCYuh4"
      }
    },
    {
      "cell_type": "markdown",
      "source": [
        "#### Chart - 6"
      ],
      "metadata": {
        "id": "OH-pJp9IphqM"
      }
    },
    {
      "cell_type": "code",
      "source": [
        "# Chart - 6 visualization code\n",
        "plt.hist(airbnb_df[\"availability_365\"], bins = 8)\n",
        "plt.xlabel(\"Availability of room in a year\")\n",
        "plt.title(\"Distribution of availability of room in a year\")"
      ],
      "metadata": {
        "id": "kuRf4wtuphqN"
      },
      "execution_count": null,
      "outputs": []
    },
    {
      "cell_type": "markdown",
      "source": [
        "##### 1. Why did you pick the specific chart?"
      ],
      "metadata": {
        "id": "bbFf2-_FphqN"
      }
    },
    {
      "cell_type": "markdown",
      "source": [
        "Answer Here.\n",
        "\n",
        "Here we have picked histogram to understand the distribution of availability of room in a year."
      ],
      "metadata": {
        "id": "loh7H2nzphqN"
      }
    },
    {
      "cell_type": "markdown",
      "source": [
        "##### 2. What is/are the insight(s) found from the chart?"
      ],
      "metadata": {
        "id": "_ouA3fa0phqN"
      }
    },
    {
      "cell_type": "markdown",
      "source": [
        "Answer Here\n",
        "\n",
        "From the above plot we can conclude most of the rooms available for 1 to 50 days a year."
      ],
      "metadata": {
        "id": "VECbqPI7phqN"
      }
    },
    {
      "cell_type": "markdown",
      "source": [
        "##### 3. Will the gained insights help creating a positive business impact?\n",
        "Are there any insights that lead to negative growth? Justify with specific reason."
      ],
      "metadata": {
        "id": "Seke61FWphqN"
      }
    },
    {
      "cell_type": "markdown",
      "source": [
        "Answer Here\n",
        "\n",
        "Yes the gained insights might help creating positive business impact.\n",
        "We did not found any insights that lead to negative growth. But increasing the availability of room in a year might help the business to generate more revenue."
      ],
      "metadata": {
        "id": "DW4_bGpfphqN"
      }
    },
    {
      "cell_type": "markdown",
      "source": [
        "#### Chart - 7"
      ],
      "metadata": {
        "id": "PIIx-8_IphqN"
      }
    },
    {
      "cell_type": "code",
      "source": [
        "# Chart - 7 visualization code\n",
        "sns.barplot(data = airbnb_df, x = \"room_type\", y = \"calculated_host_listings_count\")\n",
        "plt.title(\"Distribution of listings of room types\")"
      ],
      "metadata": {
        "id": "lqAIGUfyphqO"
      },
      "execution_count": null,
      "outputs": []
    },
    {
      "cell_type": "markdown",
      "source": [
        "##### 1. Why did you pick the specific chart?"
      ],
      "metadata": {
        "id": "t27r6nlMphqO"
      }
    },
    {
      "cell_type": "markdown",
      "source": [
        "Answer Here.\n",
        "\n",
        "Here we have crated bar plot to understand the distribution of calculated host listings count of different room types."
      ],
      "metadata": {
        "id": "iv6ro40sphqO"
      }
    },
    {
      "cell_type": "markdown",
      "source": [
        "##### 2. What is/are the insight(s) found from the chart?"
      ],
      "metadata": {
        "id": "r2jJGEOYphqO"
      }
    },
    {
      "cell_type": "markdown",
      "source": [
        "Answer Here\n",
        "\n",
        "\n",
        "Most of the hosts listed their properties Entire home/apt room type. So, The highest number of rooms available are Entire home/apt. Whereas Private rooms have thelowest number of host listing count."
      ],
      "metadata": {
        "id": "Po6ZPi4hphqO"
      }
    },
    {
      "cell_type": "markdown",
      "source": [
        "##### 3. Will the gained insights help creating a positive business impact?\n",
        "Are there any insights that lead to negative growth? Justify with specific reason."
      ],
      "metadata": {
        "id": "b0JNsNcRphqO"
      }
    },
    {
      "cell_type": "markdown",
      "source": [
        "Answer Here\n",
        "\n",
        "We found there is no reason for negative growth. The chart is perfectly depicting real world scenarios. Entire home/apt is the most expensive  and highest in demand room type. Hence most of the hosts prefer to list their properties as Entire home/ apt type. So, the gained insights will help creating a positive business impact."
      ],
      "metadata": {
        "id": "xvSq8iUTphqO"
      }
    },
    {
      "cell_type": "markdown",
      "source": [
        "#### Chart - 8"
      ],
      "metadata": {
        "id": "BZR9WyysphqO"
      }
    },
    {
      "cell_type": "code",
      "source": [
        "# Chart - 8 visualization code\n",
        "sns.barplot(data = airbnb_df, x = \"neighbourhood_group\", y = \"price\", hue = \"room_type\")\n",
        "plt.title(\"price of different neighbourhood groups and their room types \")"
      ],
      "metadata": {
        "id": "TdPTWpAVphqO"
      },
      "execution_count": null,
      "outputs": []
    },
    {
      "cell_type": "markdown",
      "source": [
        "##### 1. Why did you pick the specific chart?"
      ],
      "metadata": {
        "id": "jj7wYXLtphqO"
      }
    },
    {
      "cell_type": "markdown",
      "source": [
        "Answer Here.\n",
        "\n",
        "Here we have created bar chart to understand the price distributon in  different neighbourhood group based on the type of room."
      ],
      "metadata": {
        "id": "Ob8u6rCTphqO"
      }
    },
    {
      "cell_type": "markdown",
      "source": [
        "##### 2. What is/are the insight(s) found from the chart?"
      ],
      "metadata": {
        "id": "eZrbJ2SmphqO"
      }
    },
    {
      "cell_type": "markdown",
      "source": [
        "Answer Here\n",
        "\n",
        "From this observation we can conclude that Manhattan is the costliest neighbourhood group among all neighbourhood groups, and Bronx is the cheapest neighbourhood group among all neighbourhood groups.\n",
        "\n",
        "\n",
        "*  All room types in Manhattan are costlier than other neighbourhood groups in their specific category.\n",
        "*   Shared rooms in Brooklyn are the cheapest ones.\n",
        "\n",
        "*   Staten Island and Bronx has the cheapest private room category."
      ],
      "metadata": {
        "id": "mZtgC_hjphqO"
      }
    },
    {
      "cell_type": "markdown",
      "source": [
        "##### 3. Will the gained insights help creating a positive business impact?\n",
        "Are there any insights that lead to negative growth? Justify with specific reason."
      ],
      "metadata": {
        "id": "rFu4xreNphqO"
      }
    },
    {
      "cell_type": "markdown",
      "source": [
        "Answer Here\n",
        "\n",
        "We found there is no reason for negative growth. The chart is perfectly depicting real world scenarios. Entire home/apt is the most expensive and highest in demand room type and Manhattan is one of the most popular neighbourhood group in airbnb. So, the price of all room types in Manhattan is higher than any other neighbourhood group. Where Bronx is the lowest in demand places of all. Hence the price of rooms in Bronx is significantly lower than any other room neighbourhood group.So, the gained insights will help creating a positive business impact."
      ],
      "metadata": {
        "id": "ey_0qi68phqO"
      }
    },
    {
      "cell_type": "markdown",
      "source": [
        "#### Chart - 9"
      ],
      "metadata": {
        "id": "YJ55k-q6phqO"
      }
    },
    {
      "cell_type": "code",
      "source": [
        "# Chart - 9 visualization code\n",
        "sns.barplot(data = airbnb_df, x = \"neighbourhood_group\", y = \"calculated_host_listings_count\")\n",
        "plt.title(\"Distribution of listings across neighbourhood\")"
      ],
      "metadata": {
        "id": "B2aS4O1ophqO"
      },
      "execution_count": null,
      "outputs": []
    },
    {
      "cell_type": "markdown",
      "source": [
        "##### 1. Why did you pick the specific chart?"
      ],
      "metadata": {
        "id": "gCFgpxoyphqP"
      }
    },
    {
      "cell_type": "markdown",
      "source": [
        "Answer Here.\n",
        "\n",
        "Here we have picked bar plot to understand the distribution of listings across neigbourhood groups."
      ],
      "metadata": {
        "id": "TVxDimi2phqP"
      }
    },
    {
      "cell_type": "markdown",
      "source": [
        "##### 2. What is/are the insight(s) found from the chart?"
      ],
      "metadata": {
        "id": "OVtJsKN_phqQ"
      }
    },
    {
      "cell_type": "markdown",
      "source": [
        "Answer Here\n",
        "\n",
        "Most of the hosts listed their property in Manhattan. So, Manhattan has the highest number of rooms available. Whereas Bronx has the lowest number of host listing count. Hence we can conclude hosts prefer to list their property in Manhattan rather than any other neighbourhood groups."
      ],
      "metadata": {
        "id": "ngGi97qjphqQ"
      }
    },
    {
      "cell_type": "markdown",
      "source": [
        "##### 3. Will the gained insights help creating a positive business impact?\n",
        "Are there any insights that lead to negative growth? Justify with specific reason."
      ],
      "metadata": {
        "id": "lssrdh5qphqQ"
      }
    },
    {
      "cell_type": "markdown",
      "source": [
        "Answer Here\n",
        "\n",
        "We found there is no reason for negative growth. The chart is perfectly depicting real world scenarios. Manhattan is one of the most popular neighbourhood group in airbnb. So, hosts prefer to list their property in Manhattan rather than any other neighbourhood groups. Where Bronx is the lowest in demand places of all. Hence the number of calculated host listing count in bronx is significantly lower.So, the gained insights will help creating a positive business impact."
      ],
      "metadata": {
        "id": "tBpY5ekJphqQ"
      }
    },
    {
      "cell_type": "markdown",
      "source": [
        "#### Chart - 10"
      ],
      "metadata": {
        "id": "U2RJ9gkRphqQ"
      }
    },
    {
      "cell_type": "code",
      "source": [
        "# Chart - 10 visualization code\n",
        "sns.scatterplot(data = airbnb_df, x = \"price\", y = \"calculated_host_listings_count\", hue = \"room_type\")\n",
        "plt.title(\"price vs calculated host listings count\")\n"
      ],
      "metadata": {
        "id": "GM7a4YP4phqQ"
      },
      "execution_count": null,
      "outputs": []
    },
    {
      "cell_type": "markdown",
      "source": [
        "##### 1. Why did you pick the specific chart?"
      ],
      "metadata": {
        "id": "1M8mcRywphqQ"
      }
    },
    {
      "cell_type": "markdown",
      "source": [
        "Answer Here.\n",
        "\n",
        "Here we have created scatter plot to understand the relationship between price and calculated host listings count and the type of rooms availabe."
      ],
      "metadata": {
        "id": "8agQvks0phqQ"
      }
    },
    {
      "cell_type": "markdown",
      "source": [
        "##### 2. What is/are the insight(s) found from the chart?"
      ],
      "metadata": {
        "id": "tgIPom80phqQ"
      }
    },
    {
      "cell_type": "markdown",
      "source": [
        "Answer Here\n",
        "\n",
        "Most of the hosts listed their property within the price range of 40 to 400 that are mostly Entire home/apt room types. There are very few shared room types available."
      ],
      "metadata": {
        "id": "Qp13pnNzphqQ"
      }
    },
    {
      "cell_type": "markdown",
      "source": [
        "##### 3. Will the gained insights help creating a positive business impact?\n",
        "Are there any insights that lead to negative growth? Justify with specific reason."
      ],
      "metadata": {
        "id": "JMzcOPDDphqR"
      }
    },
    {
      "cell_type": "markdown",
      "source": [
        "Answer Here\n",
        "\n",
        "We found there is no reason for negative growth. The chart is perfectly depicting real world scenarios. The Entire home/ apt room type is one of the most popular room type and people prefer to pay 300 to 1800 dollars for it. So, hosts prefer to list their property in that range as Enitre home/ apt room."
      ],
      "metadata": {
        "id": "R4Ka1PC2phqR"
      }
    },
    {
      "cell_type": "markdown",
      "source": [
        "#### Chart - 11"
      ],
      "metadata": {
        "id": "x-EpHcCOp1ci"
      }
    },
    {
      "cell_type": "code",
      "source": [
        "# Chart - 11 visualization code\n",
        "room_type_available = airbnb_df.groupby(\"room_type\")[\"availability_365\"].mean()\n",
        "room_type_available"
      ],
      "metadata": {
        "id": "mAQTIvtqp1cj"
      },
      "execution_count": null,
      "outputs": []
    },
    {
      "cell_type": "code",
      "source": [
        "plt.bar(room_type_available.index, room_type_available.values)\n",
        "plt.xlabel(\"room types\")\n",
        "plt.ylabel(\"average no. of days avaliable in the year 2019\")\n",
        "plt.title(\"Comparison between room types and their availability\")"
      ],
      "metadata": {
        "id": "HHdRMG_GX-QQ"
      },
      "execution_count": null,
      "outputs": []
    },
    {
      "cell_type": "markdown",
      "source": [
        "##### 1. Why did you pick the specific chart?"
      ],
      "metadata": {
        "id": "X_VqEhTip1ck"
      }
    },
    {
      "cell_type": "markdown",
      "source": [
        "Answer Here.\n",
        "\n",
        "Here we have picked bar plot to understand distribution of the room types that are mostly available across the year. From the output we can observe which type of rooms are most popular ones."
      ],
      "metadata": {
        "id": "-vsMzt_np1ck"
      }
    },
    {
      "cell_type": "markdown",
      "source": [
        "##### 2. What is/are the insight(s) found from the chart?"
      ],
      "metadata": {
        "id": "8zGJKyg5p1ck"
      }
    },
    {
      "cell_type": "markdown",
      "source": [
        "Answer Here\n",
        "\n",
        "Shared rooms are mostly available across the year, so it is easier to book shared room followed by Private room. So, Shared room has the lowest popularity. But Entire home/apt room type has the lowest number of availability across the year, hence it is hardly accessible and it is the most popular room type."
      ],
      "metadata": {
        "id": "ZYdMsrqVp1ck"
      }
    },
    {
      "cell_type": "markdown",
      "source": [
        "##### 3. Will the gained insights help creating a positive business impact?\n",
        "Are there any insights that lead to negative growth? Justify with specific reason."
      ],
      "metadata": {
        "id": "PVzmfK_Ep1ck"
      }
    },
    {
      "cell_type": "markdown",
      "source": [
        "Answer Here\n",
        "\n",
        "We found there is no reason for negative growth. The chart perfectly depicts real-world scenarios. The Entire home/ apt room type is one of the most popular room types and is high in demand. So, the availability of these rooms is low. Whereas Shared room types are lowest in demand and highest in terms of availability across the year."
      ],
      "metadata": {
        "id": "druuKYZpp1ck"
      }
    },
    {
      "cell_type": "markdown",
      "source": [
        "#### Chart - 12"
      ],
      "metadata": {
        "id": "n3dbpmDWp1ck"
      }
    },
    {
      "cell_type": "code",
      "source": [
        "# Chart - 12 visualization code\n",
        "\n",
        "neighbourhood_available = airbnb_df.groupby(\"neighbourhood_group\")[\"availability_365\"].mean()\n",
        "neighbourhood_available"
      ],
      "metadata": {
        "id": "bwevp1tKp1ck"
      },
      "execution_count": null,
      "outputs": []
    },
    {
      "cell_type": "code",
      "source": [
        "plt.bar(neighbourhood_available.index, neighbourhood_available.values)\n",
        "plt.xlabel(\"room types\")\n",
        "plt.ylabel(\"no. of days avaliable in the year 2019\")\n",
        "plt.title(\"Comparison between neighbourhood group and their availability\")"
      ],
      "metadata": {
        "id": "6taDVPcUaA4w"
      },
      "execution_count": null,
      "outputs": []
    },
    {
      "cell_type": "markdown",
      "source": [
        "##### 1. Why did you pick the specific chart?"
      ],
      "metadata": {
        "id": "ylSl6qgtp1ck"
      }
    },
    {
      "cell_type": "markdown",
      "source": [
        "Answer Here.\n",
        "\n",
        "Here we have picked bar plot to understand the availability of rooms in neighbourhood groups across the year. The bar plot will help us to compare neighbourhood groups and their availability."
      ],
      "metadata": {
        "id": "m2xqNkiQp1ck"
      }
    },
    {
      "cell_type": "markdown",
      "source": [
        "##### 2. What is/are the insight(s) found from the chart?"
      ],
      "metadata": {
        "id": "ZWILFDl5p1ck"
      }
    },
    {
      "cell_type": "markdown",
      "source": [
        "Answer Here\n",
        "\n",
        "Rooms in Staten Island are mostly available across the year, so it is easier to book rooms in Staten Island followed by Bronx. So, Staten Island  has the lowest popularity. But rooms in Manhattan and Brooklyn have the lowest number of availability across the year, hence rooms in Manhattan and Brooklyn are hardly accessible as they are the most popular neighbourhood groups."
      ],
      "metadata": {
        "id": "x-lUsV2mp1ck"
      }
    },
    {
      "cell_type": "markdown",
      "source": [
        "##### 3. Will the gained insights help creating a positive business impact?\n",
        "Are there any insights that lead to negative growth? Justify with specific reason."
      ],
      "metadata": {
        "id": "M7G43BXep1ck"
      }
    },
    {
      "cell_type": "markdown",
      "source": [
        "Answer Here\n",
        "\n",
        "We found there is no reason for negative growth. The chart perfectly depicts real-world scenarios. Manhattan is one of the most popular neighborhood groups and high in demand. So, the availability of the rooms in Manhattan is low. Whereas Staten Island and Bronx are the lowest in demand and highest in terms of availability across the year."
      ],
      "metadata": {
        "id": "5wwDJXsLp1cl"
      }
    },
    {
      "cell_type": "markdown",
      "source": [
        "#### Chart - 13"
      ],
      "metadata": {
        "id": "Ag9LCva-p1cl"
      }
    },
    {
      "cell_type": "code",
      "source": [
        "# Chart - 13 visualization code\n",
        "\n",
        "sns.scatterplot(data = airbnb_df, x = \"price\", y = \"number_of_reviews\", hue = \"room_type\")\n",
        "plt.title(\"price vs number of reviews based on room types\")"
      ],
      "metadata": {
        "id": "EUfxeq9-p1cl"
      },
      "execution_count": null,
      "outputs": []
    },
    {
      "cell_type": "markdown",
      "source": [
        "##### 1. Why did you pick the specific chart?"
      ],
      "metadata": {
        "id": "E6MkPsBcp1cl"
      }
    },
    {
      "cell_type": "markdown",
      "source": [
        "Answer Here.\n",
        "\n",
        "Here we have created a scatter plot to understand the relation ship between two continuous variables - price and number of reviews and room types."
      ],
      "metadata": {
        "id": "V22bRsFWp1cl"
      }
    },
    {
      "cell_type": "markdown",
      "source": [
        "##### 2. What is/are the insight(s) found from the chart?"
      ],
      "metadata": {
        "id": "2cELzS2fp1cl"
      }
    },
    {
      "cell_type": "markdown",
      "source": [
        "Answer Here\n",
        "From the above plot we can conclude that customers prefer to review rooms within the price range of 40 to 450 USD which are Entire home/apt room types."
      ],
      "metadata": {
        "id": "ozQPc2_Ip1cl"
      }
    },
    {
      "cell_type": "markdown",
      "source": [
        "##### 3. Will the gained insights help creating a positive business impact?\n",
        "Are there any insights that lead to negative growth? Justify with specific reason."
      ],
      "metadata": {
        "id": "3MPXvC8up1cl"
      }
    },
    {
      "cell_type": "markdown",
      "source": [
        "Answer Here\n",
        "\n",
        "We found there is no reason for negative growth. The chart perfectly depicts real-world scenarios. The affordable range for Airbnb rooms is 40 to 400 USD. Hence, the concentration of reviews in this price range for Entire home/ apt room type is higher than any other room type."
      ],
      "metadata": {
        "id": "GL8l1tdLp1cl"
      }
    },
    {
      "cell_type": "markdown",
      "source": [
        "#### Chart - 14 - Correlation Heatmap"
      ],
      "metadata": {
        "id": "NC_X3p0fY2L0"
      }
    },
    {
      "cell_type": "code",
      "source": [
        "# remove unimportant cols for better heatmap analysis.\n",
        "airbnb_new_df = airbnb_df.drop([\"id\", \"host_id\", \"latitude\", \"longitude\", \"neighbourhood\", \"neighbourhood_group\"], axis = 1)"
      ],
      "metadata": {
        "id": "xyC9zolEZNRQ"
      },
      "execution_count": null,
      "outputs": []
    },
    {
      "cell_type": "code",
      "source": [
        "# Heat Map\n",
        "sns.heatmap(data = airbnb_new_df.corr(), annot = True, cmap = \"coolwarm\")"
      ],
      "metadata": {
        "id": "Ch49TjDscSrG"
      },
      "execution_count": null,
      "outputs": []
    },
    {
      "cell_type": "markdown",
      "source": [
        "##### 1. Why did you pick the specific chart?"
      ],
      "metadata": {
        "id": "UV0SzAkaZNRQ"
      }
    },
    {
      "cell_type": "markdown",
      "source": [
        "Answer Here.\n",
        "Heat map shows correlation between each variables. The correlation value shows the influence of one variable on another. If the correlation values can be negative and positive."
      ],
      "metadata": {
        "id": "DVPuT8LYZNRQ"
      }
    },
    {
      "cell_type": "markdown",
      "source": [
        "##### 2. What is/are the insight(s) found from the chart?"
      ],
      "metadata": {
        "id": "YPEH6qLeZNRQ"
      }
    },
    {
      "cell_type": "markdown",
      "source": [
        "Answer Here\n",
        "\n",
        "From the above heatmap observation, we can conclude the following insights -\n",
        "\n",
        "*   Price has a positive correlation with minimum nights, calculated host listing counts, and availability_365 columns, and a negative correlation with several reviews and reviews per month.\n",
        "\n",
        "*   Minimum nights have a positive correlation with price, calculated host listing counts, and availability_365 columns, and a negative correlation with the number of reviews and reviews per month.\n",
        "\n",
        "*   Number of reviews has a positive correlation with reviews per month and availability 365. It has a negative correlation with all other columns.\n",
        "\n",
        "*   calculated host listing counts have a positive correlation, with price, minimum nights, and availability_365 columns, and a negative correlation with several reviews and reviews per month.\n",
        "\n",
        "*   availability_365 has a positive correlation with all other columns considering the Number of reviews and reviews per month. Hence we can conclude number of reviews increases with the availability of the room across the year.\n",
        "\n"
      ],
      "metadata": {
        "id": "bfSqtnDqZNRR"
      }
    },
    {
      "cell_type": "markdown",
      "source": [
        "#### Chart - 15 - Pair Plot"
      ],
      "metadata": {
        "id": "q29F0dvdveiT"
      }
    },
    {
      "cell_type": "code",
      "source": [
        "# Pair Plot visualization code\n",
        "sns.pairplot(data = airbnb_new_df, hue = \"room_type\")"
      ],
      "metadata": {
        "id": "o58-TEIhveiU"
      },
      "execution_count": null,
      "outputs": []
    },
    {
      "cell_type": "code",
      "source": [
        "airbnb_df[\"price\"].min()"
      ],
      "metadata": {
        "id": "G_PfvpLRMdIx"
      },
      "execution_count": null,
      "outputs": []
    },
    {
      "cell_type": "code",
      "source": [
        "airbnb_df[\"minimum_nights\"].min()"
      ],
      "metadata": {
        "id": "a3mu7S2LMfoc"
      },
      "execution_count": null,
      "outputs": []
    },
    {
      "cell_type": "markdown",
      "source": [
        "##### 1. Why did you pick the specific chart?"
      ],
      "metadata": {
        "id": "EXh0U9oCveiU"
      }
    },
    {
      "cell_type": "markdown",
      "source": [
        "Answer Here.\n",
        "\n",
        "We created a pair plot to understand the relationship between each variable through scatter plot based on the room types. The blue color indicates private rooms, the orange color indicates Entire home/apt room type and the green color indicates shared rooms."
      ],
      "metadata": {
        "id": "eMmPjTByveiU"
      }
    },
    {
      "cell_type": "markdown",
      "source": [
        "##### 2. What is/are the insight(s) found from the chart?"
      ],
      "metadata": {
        "id": "22aHeOlLveiV"
      }
    },
    {
      "cell_type": "markdown",
      "source": [
        "Answer Here\n",
        "\n",
        "From the pair plot, we can observe the following insights-\n",
        "\n",
        "**Price**\n",
        "*   Customers prefer to spend 40 USD to 350 USD for 1 to 250 minimum nights in the Entire home/apt room type.\n",
        "*   The Enitr home/apt rooms have the most number of reviews and reviews per month within the price range of 40$ to 350$\n",
        "\n",
        "*   Most of the rooms that are Entire homes/apt in the category have the highest number of available days in a year within the price range of 40 to 2800.\n",
        "*   Most of the rooms that are Entire home/apt in the category have the highest number of host listings within the price range of 40 to 2800.\n",
        "\n",
        "**Number of reviews and reviews per month**\n",
        "\n",
        "*   Private rooms that are available between 1 to 250 days have the highest number of reviews, and Entire home/apt rooms that are available between 1 to 250 days have the most reviews per month.\n",
        "\n",
        "Calculated host listings count and availability365\n",
        "\n",
        "*   Most of the hosts list their property as Entire home/ apt type and their availability is within range 1 to 250 days in a year.\n"
      ],
      "metadata": {
        "id": "uPQ8RGwHveiV"
      }
    },
    {
      "cell_type": "markdown",
      "source": [
        "#### Chart - 16"
      ],
      "metadata": {
        "id": "bLPicupcOLg9"
      }
    },
    {
      "cell_type": "code",
      "source": [
        "# Chart - 16 visualization code\n",
        "sns.scatterplot(data = airbnb_df, x = \"price\", y = \"availability_365\")\n",
        "plt.title(\"price vs availability_365\")"
      ],
      "metadata": {
        "id": "TuhIRfYXEpYd"
      },
      "execution_count": null,
      "outputs": []
    },
    {
      "cell_type": "markdown",
      "source": [
        "##### 1. Why did you pick the specific chart?"
      ],
      "metadata": {
        "id": "KkA2ikNaORXW"
      }
    },
    {
      "cell_type": "markdown",
      "source": [
        "Answer Here.\n",
        "\n",
        "We created a scatter plot to understand the relationship between price and availability_365."
      ],
      "metadata": {
        "id": "EABPLwhtOWEW"
      }
    },
    {
      "cell_type": "markdown",
      "source": [
        "##### 2. What is/are the insight(s) found from the chart?"
      ],
      "metadata": {
        "id": "pN9xEqCeOiuR"
      }
    },
    {
      "cell_type": "markdown",
      "source": [
        "Answer Here.\n",
        "\n",
        "From the plot we found most of the rooms available are in the price range of 40 to 350 for 1 to 350 days a year."
      ],
      "metadata": {
        "id": "6kYpq9pZOkyC"
      }
    },
    {
      "cell_type": "markdown",
      "source": [
        "##### 3. Will the gained insights help creating a positive business impact?\n",
        "Are there any insights that lead to negative growth? Justify with specific reason."
      ],
      "metadata": {
        "id": "Ch1irKxkOu9G"
      }
    },
    {
      "cell_type": "markdown",
      "source": [
        "Answer Here.\n",
        "\n",
        "Yes the gained insights will definitely help creating a positive business impact.\n",
        "\n",
        "We could  not found any insights that lead to negative growth."
      ],
      "metadata": {
        "id": "B77ytuPROw_6"
      }
    },
    {
      "cell_type": "markdown",
      "source": [
        "#### Chart - 17"
      ],
      "metadata": {
        "id": "RN7EhIckO9a5"
      }
    },
    {
      "cell_type": "code",
      "source": [
        "# Chart - 17 visualization code\n",
        "sns.scatterplot(data = airbnb_df, x = \"price\", y = \"reviews_per_month\")\n",
        "plt.title(\"price vs reviews per month\")"
      ],
      "metadata": {
        "id": "JY4oCR-9FJkH"
      },
      "execution_count": null,
      "outputs": []
    },
    {
      "cell_type": "markdown",
      "source": [
        "##### 1. Why did you pick the specific chart?"
      ],
      "metadata": {
        "id": "PlqiopNsPC8U"
      }
    },
    {
      "cell_type": "markdown",
      "source": [
        "Answer Here.\n",
        "\n",
        "Here we have selected scatter plot to understand the distribution between price and reviews_per_month."
      ],
      "metadata": {
        "id": "K-qEcgi_PIPD"
      }
    },
    {
      "cell_type": "markdown",
      "source": [
        "##### 2. What is/are the insight(s) found from the chart?"
      ],
      "metadata": {
        "id": "Sc5mUnI2PMBB"
      }
    },
    {
      "cell_type": "markdown",
      "source": [
        "Answer Here.\n",
        "\n",
        "From the plot we observed that most people provide 10 to 15 reviews per month for the price range between 40 to 350 USD."
      ],
      "metadata": {
        "id": "4BQfNmC_PQYy"
      }
    },
    {
      "cell_type": "markdown",
      "source": [
        "##### 3. Will the gained insights help creating a positive business impact?\n",
        "Are there any insights that lead to negative growth? Justify with specific reason."
      ],
      "metadata": {
        "id": "AvcWZIywPUFX"
      }
    },
    {
      "cell_type": "markdown",
      "source": [
        "Answer Here.\n",
        "\n",
        "Yes the gained insight will help creating a positive business impact.\n",
        "\n",
        " Yes there are insights that lead to negative growth. The values of reviews per month is directly related to experience of the customer. If the number of reviews per month is less, it indicates that customers are not happy with the experience. The low average number of reviews per month might be concerning."
      ],
      "metadata": {
        "id": "CtpLNTj-PX7G"
      }
    },
    {
      "cell_type": "markdown",
      "source": [
        "#### Chart - 18"
      ],
      "metadata": {
        "id": "rubGSHyjPdDh"
      }
    },
    {
      "cell_type": "code",
      "source": [
        "# Chart - 18 visualization code\n",
        "sns.scatterplot(data = airbnb_df, x = \"minimum_nights\", y = \"number_of_reviews\", hue = \"room_type\")\n",
        "plt.title(\"Relationship between minimum nights and number of reviews\")"
      ],
      "metadata": {
        "id": "GyYVJSiOFWds"
      },
      "execution_count": null,
      "outputs": []
    },
    {
      "cell_type": "markdown",
      "source": [
        "##### 1. Why did you pick the specific chart?"
      ],
      "metadata": {
        "id": "f0T5dpTmPmCE"
      }
    },
    {
      "cell_type": "markdown",
      "source": [
        "Answer Here.\n",
        "\n",
        "Here we have created scatter plot to understand the distribution of minimum nights and number of reviews."
      ],
      "metadata": {
        "id": "wKcfTjAtPpx5"
      }
    },
    {
      "cell_type": "markdown",
      "source": [
        "##### 2. What is/are the insight(s) found from the chart?"
      ],
      "metadata": {
        "id": "mXMzrfBMPvEI"
      }
    },
    {
      "cell_type": "markdown",
      "source": [
        "Answer Here.\n",
        "\n",
        "From the given plot we found people who spend 1 to 200 minimum nights in Entire home/apt room type have higher concentration of number of reviews. Whereas people who spend 1 to 50 minimum nights in private rooms gives more amount of reviews."
      ],
      "metadata": {
        "id": "DeI-EyqEPwqO"
      }
    },
    {
      "cell_type": "markdown",
      "source": [
        "##### 3. Will the gained insights help creating a positive business impact?\n",
        "Are there any insights that lead to negative growth? Justify with specific reason."
      ],
      "metadata": {
        "id": "6YoRb2-9PzN8"
      }
    },
    {
      "cell_type": "markdown",
      "source": [
        "Answer Here.\n",
        "Yes the gained insights will help creating a positive business impact.\n",
        "\n",
        "We found there is a reason for negative growth. There are a few number of reviws for shared rooms, that indicates the shared rooms are lowest in demand. And while comparing private rooms and Entire home/apt rooms we found private rooms have less concentration of reviews. So, creating a better and easier feedback interface can lead to higher concentration of reviews for people who spend time in private rooms."
      ],
      "metadata": {
        "id": "QHgFnNlZP6l9"
      }
    },
    {
      "cell_type": "markdown",
      "source": [
        "#### Chart - 19"
      ],
      "metadata": {
        "id": "hSm64gbgP90n"
      }
    },
    {
      "cell_type": "code",
      "source": [
        "# Chart - 19 visualization code\n",
        "plt.figure(figsize = (10, 6))\n",
        "sns.lineplot(data = airbnb_df, y = \"reviews_per_month\", x = \"number_of_reviews\")\n",
        "plt.title(\"Trends of number of reviews with reviews per month\")"
      ],
      "metadata": {
        "id": "GZbZ0IzoFvZP"
      },
      "execution_count": null,
      "outputs": []
    },
    {
      "cell_type": "markdown",
      "source": [
        "##### 1. Why did you pick the specific chart?"
      ],
      "metadata": {
        "id": "VMAtlmIpSNzP"
      }
    },
    {
      "cell_type": "markdown",
      "source": [
        "Answer Here.\n",
        "\n",
        "Here we have created line plot to understand the relationship between number_of_reviews and reviews per month."
      ],
      "metadata": {
        "id": "zq9AZ843SUQM"
      }
    },
    {
      "cell_type": "markdown",
      "source": [
        "##### 2. What is/are the insight(s) found from the chart?"
      ],
      "metadata": {
        "id": "pOlEX6CISXgn"
      }
    },
    {
      "cell_type": "markdown",
      "source": [
        "Answer Here.\n",
        "\n",
        "From the above plot we can conclude that the number of reviews per month is proportional to the number of reviews. The more people provide reviews of the room in a single month the more the number of reviews increases in an year."
      ],
      "metadata": {
        "id": "92FG3pJzSbmu"
      }
    },
    {
      "cell_type": "markdown",
      "source": [
        "##### 3. Will the gained insights help creating a positive business impact?\n",
        "Are there any insights that lead to negative growth? Justify with specific reason."
      ],
      "metadata": {
        "id": "dV8dg6c_SgNs"
      }
    },
    {
      "cell_type": "markdown",
      "source": [
        "Answer Here.\n",
        "\n",
        "Yes the gained insight will help creating a positive business impact.\n",
        "\n",
        "No, we could not found any insights that lead to negative growth."
      ],
      "metadata": {
        "id": "M2pLXShJShzB"
      }
    },
    {
      "cell_type": "code",
      "source": [
        "# Chart - 20 visualization code\n",
        "plt.hist(airbnb_df[\"reviews_per_month\"], bins =10)\n",
        "plt.xlabel(\"reviews_per_month\")\n",
        "plt.ylabel(\"count\")"
      ],
      "metadata": {
        "id": "qf0aBavQG3tc"
      },
      "execution_count": null,
      "outputs": []
    },
    {
      "cell_type": "markdown",
      "source": [
        "##### 1. Why did you pick the specific chart?"
      ],
      "metadata": {
        "id": "JSibCXAwSmB6"
      }
    },
    {
      "cell_type": "markdown",
      "source": [
        "Answer Here.\n",
        "\n",
        "Here we have created histogram to understand the distribution of reviews per month."
      ],
      "metadata": {
        "id": "6whEIo27Ssyv"
      }
    },
    {
      "cell_type": "markdown",
      "source": [
        "##### 2. What is/are the insight(s) found from the chart?"
      ],
      "metadata": {
        "id": "Qhsj-qPhSwCK"
      }
    },
    {
      "cell_type": "markdown",
      "source": [
        "Answer Here.\n",
        "\n",
        "We found most of the people provide 1 to 8 reviews for each room."
      ],
      "metadata": {
        "id": "7O-62oe0SzOW"
      }
    },
    {
      "cell_type": "markdown",
      "source": [
        "##### 3. Will the gained insights help creating a positive business impact?\n",
        "Are there any insights that lead to negative growth? Justify with specific reason."
      ],
      "metadata": {
        "id": "k1I8WYzuS2QO"
      }
    },
    {
      "cell_type": "markdown",
      "source": [
        "Answer Here.\n",
        "\n",
        "Yes the insights will definitely help creating psoitive business impact.\n",
        "\n",
        "We could not found any insights that lead to negative growth."
      ],
      "metadata": {
        "id": "r_i3z9fHS6tb"
      }
    },
    {
      "cell_type": "markdown",
      "source": [
        "## **5. Solution to Business Objective**"
      ],
      "metadata": {
        "id": "JcMwzZxoAimU"
      }
    },
    {
      "cell_type": "markdown",
      "source": [
        "#### What do you suggest the client to achieve Business Objective ?\n",
        "Explain Briefly."
      ],
      "metadata": {
        "id": "8G2x9gOozGDZ"
      }
    },
    {
      "cell_type": "markdown",
      "source": [
        "Answer Here.\n",
        "\n",
        "\n",
        "*   After analyzing the data we found most of the calculated_host_listing_counts belong to Manhattan, whereas the number of calculated_host_listing_count in other neighborhood groups is significantly low. So, we suggest hosts should list their properties in other neighbourhood_group as well. For example, Brooklyn is one of the most demanded and popular neighborhood groups. So, hosts should explore Brooklyn to list their properties.\n",
        "\n",
        "*   we also found that the popularity of Entire home/apt is significantly higher than other room types. So, we suggest improving the facilities and experience in private rooms, and shared room types, as it might help the business to generate more revenue.\n",
        "\n",
        "\n",
        "*   The availability of room type Entire home/apt is significantly lower than other room types. Hence, increasing the number of properties might lead to positive business growth and generate better revenue.\n",
        "\n",
        "\n",
        "\n",
        "\n",
        "\n",
        "\n",
        "\n"
      ],
      "metadata": {
        "id": "pASKb0qOza21"
      }
    },
    {
      "cell_type": "markdown",
      "source": [
        "# **Conclusion**"
      ],
      "metadata": {
        "id": "gCX9965dhzqZ"
      }
    },
    {
      "cell_type": "markdown",
      "source": [
        "Write the conclusion here.\n",
        "\n",
        "These are the EDAs we have done during our data science project. This project not only helps us to improve our critical thinking skills but also helps us to extract valuable insights and patterns from a given dataset. By analyzing the charts, graphs, and plots we observed relationships between different variables.\n",
        "\n",
        "In the following EDA project, we performed numerous data visualizations like Bar graphs, box plots, scatter plots, histograms, etc. Bar graphs helped us to observe the relationship between categorical variables and continuous variables. Box plots helped us to detect outliers. Scatter plots helped us to understand the relationship between two continuous variables. The histogram helped us to understand the distribution of continuous variables.\n",
        "\n",
        "In conclusion, all the insights we gained so far will help the business to create a positive impact.\n"
      ],
      "metadata": {
        "id": "Fjb1IsQkh3yE"
      }
    },
    {
      "cell_type": "markdown",
      "source": [
        "### ***Hurrah! You have successfully completed your EDA Capstone Project !!!***"
      ],
      "metadata": {
        "id": "gIfDvo9L0UH2"
      }
    }
  ]
}